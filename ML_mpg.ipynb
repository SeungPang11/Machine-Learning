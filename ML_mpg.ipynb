{
  "cells": [
    {
      "cell_type": "markdown",
      "metadata": {
        "id": "LjMFS3W19hyH"
      },
      "source": [
        "# Simple Linear Regression for Automobile mpg Data\n",
        "\n",
        "In this demo, you will see how to:\n",
        "* Load data from a text fileausing the `pandas` package\n",
        "* Create a scatter plot of data\n",
        "* Handle missing data\n",
        "* Fit a simple linear model\n",
        "* Plot the linear fit with the test data\n",
        "* Use a nonlinear transformation for an improved fit"
      ]
    },
    {
      "cell_type": "markdown",
      "metadata": {
        "id": "7E39zqse9hyJ"
      },
      "source": [
        "## Loading the Data\n",
        "\n",
        "The python [`pandas`](http://pandas.pydata.org/) library is a package for data analysis.  In this course, we will use a small portion of its features -- just reading and writing data from files.  However, it's a super important library in the Data Science toolkit, so if this is an area you are interested in check out the [Pandas site](https://pandas.pydata.org/) and/or this [book](https://https://wesmckinney.com/book/).  I also have a small intro [here](https://github.com/GusSand/itp_talk_2016). \n",
        "\n",
        "Back to our task at hand.  After reading the data, we will convert it to `numpy` for all numerical processing including running machine learning algorithms.\n",
        "\n",
        "We begin by loading the packages."
      ]
    },
    {
      "cell_type": "code",
      "execution_count": null,
      "metadata": {
        "id": "-MqwOL3m9hyK"
      },
      "outputs": [],
      "source": [
        "import pandas as pd\n",
        "import numpy as np"
      ]
    },
    {
      "cell_type": "markdown",
      "metadata": {
        "id": "bEelJkGz9hyL"
      },
      "source": [
        "The data for this demo comes from a survey of cars to determine the relation of mpg to engine characteristics.  The data can be found in the UCI library: https://archive.ics.uci.edu/ml/datasets/auto+mpg. The specific files we need are in the \"Data Folder\" there: https://archive.ics.uci.edu/ml/machine-learning-databases/auto-mpg."
      ]
    },
    {
      "cell_type": "markdown",
      "metadata": {
        "id": "hsah71wJ9hyL"
      },
      "source": [
        "### Try 1:  Loading the Data Incorrectly\n",
        "\n",
        "The pandas libary has very good methods for loading data from ASCII tables. In this case, we want to read the data in the file:\n",
        "https://archive.ics.uci.edu/ml/machine-learning-databases/auto-mpg/auto-mpg.data\n",
        "\n",
        "Since the file is a CSV file (comma-separated-values), we can try to use the `read_csv` command:"
      ]
    },
    {
      "cell_type": "markdown",
      "metadata": {
        "id": "kdhEtyt-9hyL"
      },
      "source": [
        "This creates a pandas *dataframe*. We can see the first six lines of the dataframe with `head` command:"
      ]
    },
    {
      "cell_type": "code",
      "execution_count": null,
      "metadata": {
        "id": "gIYGl1I59hyL"
      },
      "outputs": [],
      "source": [
        "df = pd.read_csv('https://archive.ics.uci.edu/ml/machine-learning-databases/auto-mpg/auto-mpg.data')\n",
        "\n",
        "# you can also upload a data file to you Colab notebook using the menu on the left of the page. Then read locally:\n",
        "# df = pd.read_csv('auto-mpg.data')"
      ]
    },
    {
      "cell_type": "markdown",
      "metadata": {
        "id": "ch8TF8Sh9hyM"
      },
      "source": [
        "There were three errors:\n",
        "* All the data appeared in one column.  That is, the columns were not \"delimited\" correctly\n",
        "* The first line got mistook as a header\n",
        "* The columns are missing their header names"
      ]
    },
    {
      "cell_type": "code",
      "execution_count": null,
      "metadata": {
        "scrolled": false,
        "id": "Fxv1nWA-9hyM",
        "colab": {
          "base_uri": "https://localhost:8080/",
          "height": 238
        },
        "outputId": "98a49006-7bfd-40e7-e5cb-1dc055068e3e"
      },
      "outputs": [
        {
          "output_type": "execute_result",
          "data": {
            "text/plain": [
              "  18.0   8   307.0      130.0      3504.      12.0   70  1\\t\"chevrolet chevelle malibu\"\n",
              "0  15.0   8   350.0      165.0      3693.      11...                                   \n",
              "1  18.0   8   318.0      150.0      3436.      11...                                   \n",
              "2  16.0   8   304.0      150.0      3433.      12...                                   \n",
              "3  17.0   8   302.0      140.0      3449.      10...                                   \n",
              "4  15.0   8   429.0      198.0      4341.      10...                                   \n",
              "5  14.0   8   454.0      220.0      4354.       9...                                   "
            ],
            "text/html": [
              "\n",
              "  <div id=\"df-8b8b88a1-e7f1-4f78-bcb2-1bd798079270\">\n",
              "    <div class=\"colab-df-container\">\n",
              "      <div>\n",
              "<style scoped>\n",
              "    .dataframe tbody tr th:only-of-type {\n",
              "        vertical-align: middle;\n",
              "    }\n",
              "\n",
              "    .dataframe tbody tr th {\n",
              "        vertical-align: top;\n",
              "    }\n",
              "\n",
              "    .dataframe thead th {\n",
              "        text-align: right;\n",
              "    }\n",
              "</style>\n",
              "<table border=\"1\" class=\"dataframe\">\n",
              "  <thead>\n",
              "    <tr style=\"text-align: right;\">\n",
              "      <th></th>\n",
              "      <th>18.0   8   307.0      130.0      3504.      12.0   70  1\\t\"chevrolet chevelle malibu\"</th>\n",
              "    </tr>\n",
              "  </thead>\n",
              "  <tbody>\n",
              "    <tr>\n",
              "      <th>0</th>\n",
              "      <td>15.0   8   350.0      165.0      3693.      11...</td>\n",
              "    </tr>\n",
              "    <tr>\n",
              "      <th>1</th>\n",
              "      <td>18.0   8   318.0      150.0      3436.      11...</td>\n",
              "    </tr>\n",
              "    <tr>\n",
              "      <th>2</th>\n",
              "      <td>16.0   8   304.0      150.0      3433.      12...</td>\n",
              "    </tr>\n",
              "    <tr>\n",
              "      <th>3</th>\n",
              "      <td>17.0   8   302.0      140.0      3449.      10...</td>\n",
              "    </tr>\n",
              "    <tr>\n",
              "      <th>4</th>\n",
              "      <td>15.0   8   429.0      198.0      4341.      10...</td>\n",
              "    </tr>\n",
              "    <tr>\n",
              "      <th>5</th>\n",
              "      <td>14.0   8   454.0      220.0      4354.       9...</td>\n",
              "    </tr>\n",
              "  </tbody>\n",
              "</table>\n",
              "</div>\n",
              "      <button class=\"colab-df-convert\" onclick=\"convertToInteractive('df-8b8b88a1-e7f1-4f78-bcb2-1bd798079270')\"\n",
              "              title=\"Convert this dataframe to an interactive table.\"\n",
              "              style=\"display:none;\">\n",
              "        \n",
              "  <svg xmlns=\"http://www.w3.org/2000/svg\" height=\"24px\"viewBox=\"0 0 24 24\"\n",
              "       width=\"24px\">\n",
              "    <path d=\"M0 0h24v24H0V0z\" fill=\"none\"/>\n",
              "    <path d=\"M18.56 5.44l.94 2.06.94-2.06 2.06-.94-2.06-.94-.94-2.06-.94 2.06-2.06.94zm-11 1L8.5 8.5l.94-2.06 2.06-.94-2.06-.94L8.5 2.5l-.94 2.06-2.06.94zm10 10l.94 2.06.94-2.06 2.06-.94-2.06-.94-.94-2.06-.94 2.06-2.06.94z\"/><path d=\"M17.41 7.96l-1.37-1.37c-.4-.4-.92-.59-1.43-.59-.52 0-1.04.2-1.43.59L10.3 9.45l-7.72 7.72c-.78.78-.78 2.05 0 2.83L4 21.41c.39.39.9.59 1.41.59.51 0 1.02-.2 1.41-.59l7.78-7.78 2.81-2.81c.8-.78.8-2.07 0-2.86zM5.41 20L4 18.59l7.72-7.72 1.47 1.35L5.41 20z\"/>\n",
              "  </svg>\n",
              "      </button>\n",
              "      \n",
              "  <style>\n",
              "    .colab-df-container {\n",
              "      display:flex;\n",
              "      flex-wrap:wrap;\n",
              "      gap: 12px;\n",
              "    }\n",
              "\n",
              "    .colab-df-convert {\n",
              "      background-color: #E8F0FE;\n",
              "      border: none;\n",
              "      border-radius: 50%;\n",
              "      cursor: pointer;\n",
              "      display: none;\n",
              "      fill: #1967D2;\n",
              "      height: 32px;\n",
              "      padding: 0 0 0 0;\n",
              "      width: 32px;\n",
              "    }\n",
              "\n",
              "    .colab-df-convert:hover {\n",
              "      background-color: #E2EBFA;\n",
              "      box-shadow: 0px 1px 2px rgba(60, 64, 67, 0.3), 0px 1px 3px 1px rgba(60, 64, 67, 0.15);\n",
              "      fill: #174EA6;\n",
              "    }\n",
              "\n",
              "    [theme=dark] .colab-df-convert {\n",
              "      background-color: #3B4455;\n",
              "      fill: #D2E3FC;\n",
              "    }\n",
              "\n",
              "    [theme=dark] .colab-df-convert:hover {\n",
              "      background-color: #434B5C;\n",
              "      box-shadow: 0px 1px 3px 1px rgba(0, 0, 0, 0.15);\n",
              "      filter: drop-shadow(0px 1px 2px rgba(0, 0, 0, 0.3));\n",
              "      fill: #FFFFFF;\n",
              "    }\n",
              "  </style>\n",
              "\n",
              "      <script>\n",
              "        const buttonEl =\n",
              "          document.querySelector('#df-8b8b88a1-e7f1-4f78-bcb2-1bd798079270 button.colab-df-convert');\n",
              "        buttonEl.style.display =\n",
              "          google.colab.kernel.accessAllowed ? 'block' : 'none';\n",
              "\n",
              "        async function convertToInteractive(key) {\n",
              "          const element = document.querySelector('#df-8b8b88a1-e7f1-4f78-bcb2-1bd798079270');\n",
              "          const dataTable =\n",
              "            await google.colab.kernel.invokeFunction('convertToInteractive',\n",
              "                                                     [key], {});\n",
              "          if (!dataTable) return;\n",
              "\n",
              "          const docLinkHtml = 'Like what you see? Visit the ' +\n",
              "            '<a target=\"_blank\" href=https://colab.research.google.com/notebooks/data_table.ipynb>data table notebook</a>'\n",
              "            + ' to learn more about interactive tables.';\n",
              "          element.innerHTML = '';\n",
              "          dataTable['output_type'] = 'display_data';\n",
              "          await google.colab.output.renderOutput(dataTable, element);\n",
              "          const docLink = document.createElement('div');\n",
              "          docLink.innerHTML = docLinkHtml;\n",
              "          element.appendChild(docLink);\n",
              "        }\n",
              "      </script>\n",
              "    </div>\n",
              "  </div>\n",
              "  "
            ]
          },
          "metadata": {},
          "execution_count": 4
        }
      ],
      "source": [
        "df.head(6)"
      ]
    },
    {
      "cell_type": "markdown",
      "metadata": {
        "id": "k19GfHMQ9hyN"
      },
      "source": [
        "### Try 2: Fixing the Errors in the loading\n",
        "\n",
        "The problems above are common.  Often it takes a few times to load the data correctly.  That is why it is \n",
        "good to look at the first few elements of the dataframe before proceeding.\n",
        "After some googling you can find out that you need to specify some other options to the `read_csv` command.\n",
        "First, you need to supply the names of the columns.  In this case, we have supplied them manually based on the\n",
        "description in the UCI website:"
      ]
    },
    {
      "cell_type": "code",
      "execution_count": null,
      "metadata": {
        "id": "KorJ-SJ-9hyN"
      },
      "outputs": [],
      "source": [
        "names = ['mpg', 'cylinders','displacement', 'horsepower', \n",
        "         'weight', 'acceleration', 'model year', 'origin', 'car name']"
      ]
    },
    {
      "cell_type": "markdown",
      "metadata": {
        "id": "4GD7BRxn9hyO"
      },
      "source": [
        "Then, we can repeat the `read_csv` command with the correct options. "
      ]
    },
    {
      "cell_type": "code",
      "execution_count": null,
      "metadata": {
        "id": "jWVNj7Cn9hyO"
      },
      "outputs": [],
      "source": [
        "df = pd.read_csv('https://archive.ics.uci.edu/ml/machine-learning-databases/auto-mpg/auto-mpg.data',\n",
        "                 header=None,delim_whitespace=True,names=names,na_values='?')"
      ]
    },
    {
      "cell_type": "markdown",
      "metadata": {
        "id": "JLHFb1-y9hyO"
      },
      "source": [
        "If you re-run `head` command now, you can see the loading was correct. You can see the column names, index, and values:"
      ]
    },
    {
      "cell_type": "markdown",
      "metadata": {
        "id": "yX0tEHc29hyO"
      },
      "source": [
        "## Manipulating the Data\n",
        "We can get the `shape` of the data, which indicates the number of samples and number of attributes"
      ]
    },
    {
      "cell_type": "markdown",
      "metadata": {
        "id": "fG4EFxsS9hyO"
      },
      "source": [
        "You can also see the three components of the `dataframe` object.  The dataframe is stored in a table (similar to a SQL table if you know databases).  In this case, there is one row for each car and the attributes of the car are stored in the columns.  The command `df.columns` returns the names of the columns."
      ]
    },
    {
      "cell_type": "code",
      "execution_count": null,
      "metadata": {
        "scrolled": true,
        "id": "CPvfOcHN9hyP",
        "colab": {
          "base_uri": "https://localhost:8080/",
          "height": 238
        },
        "outputId": "c7965d7c-af42-4fc3-bc34-3c4a260105a4"
      },
      "outputs": [
        {
          "output_type": "execute_result",
          "data": {
            "text/plain": [
              "    mpg  cylinders  displacement  horsepower  weight  acceleration  \\\n",
              "0  18.0          8         307.0       130.0  3504.0          12.0   \n",
              "1  15.0          8         350.0       165.0  3693.0          11.5   \n",
              "2  18.0          8         318.0       150.0  3436.0          11.0   \n",
              "3  16.0          8         304.0       150.0  3433.0          12.0   \n",
              "4  17.0          8         302.0       140.0  3449.0          10.5   \n",
              "5  15.0          8         429.0       198.0  4341.0          10.0   \n",
              "\n",
              "   model year  origin                   car name  \n",
              "0          70       1  chevrolet chevelle malibu  \n",
              "1          70       1          buick skylark 320  \n",
              "2          70       1         plymouth satellite  \n",
              "3          70       1              amc rebel sst  \n",
              "4          70       1                ford torino  \n",
              "5          70       1           ford galaxie 500  "
            ],
            "text/html": [
              "\n",
              "  <div id=\"df-beaff994-5334-4b7e-8281-7cb5b06f4fa5\">\n",
              "    <div class=\"colab-df-container\">\n",
              "      <div>\n",
              "<style scoped>\n",
              "    .dataframe tbody tr th:only-of-type {\n",
              "        vertical-align: middle;\n",
              "    }\n",
              "\n",
              "    .dataframe tbody tr th {\n",
              "        vertical-align: top;\n",
              "    }\n",
              "\n",
              "    .dataframe thead th {\n",
              "        text-align: right;\n",
              "    }\n",
              "</style>\n",
              "<table border=\"1\" class=\"dataframe\">\n",
              "  <thead>\n",
              "    <tr style=\"text-align: right;\">\n",
              "      <th></th>\n",
              "      <th>mpg</th>\n",
              "      <th>cylinders</th>\n",
              "      <th>displacement</th>\n",
              "      <th>horsepower</th>\n",
              "      <th>weight</th>\n",
              "      <th>acceleration</th>\n",
              "      <th>model year</th>\n",
              "      <th>origin</th>\n",
              "      <th>car name</th>\n",
              "    </tr>\n",
              "  </thead>\n",
              "  <tbody>\n",
              "    <tr>\n",
              "      <th>0</th>\n",
              "      <td>18.0</td>\n",
              "      <td>8</td>\n",
              "      <td>307.0</td>\n",
              "      <td>130.0</td>\n",
              "      <td>3504.0</td>\n",
              "      <td>12.0</td>\n",
              "      <td>70</td>\n",
              "      <td>1</td>\n",
              "      <td>chevrolet chevelle malibu</td>\n",
              "    </tr>\n",
              "    <tr>\n",
              "      <th>1</th>\n",
              "      <td>15.0</td>\n",
              "      <td>8</td>\n",
              "      <td>350.0</td>\n",
              "      <td>165.0</td>\n",
              "      <td>3693.0</td>\n",
              "      <td>11.5</td>\n",
              "      <td>70</td>\n",
              "      <td>1</td>\n",
              "      <td>buick skylark 320</td>\n",
              "    </tr>\n",
              "    <tr>\n",
              "      <th>2</th>\n",
              "      <td>18.0</td>\n",
              "      <td>8</td>\n",
              "      <td>318.0</td>\n",
              "      <td>150.0</td>\n",
              "      <td>3436.0</td>\n",
              "      <td>11.0</td>\n",
              "      <td>70</td>\n",
              "      <td>1</td>\n",
              "      <td>plymouth satellite</td>\n",
              "    </tr>\n",
              "    <tr>\n",
              "      <th>3</th>\n",
              "      <td>16.0</td>\n",
              "      <td>8</td>\n",
              "      <td>304.0</td>\n",
              "      <td>150.0</td>\n",
              "      <td>3433.0</td>\n",
              "      <td>12.0</td>\n",
              "      <td>70</td>\n",
              "      <td>1</td>\n",
              "      <td>amc rebel sst</td>\n",
              "    </tr>\n",
              "    <tr>\n",
              "      <th>4</th>\n",
              "      <td>17.0</td>\n",
              "      <td>8</td>\n",
              "      <td>302.0</td>\n",
              "      <td>140.0</td>\n",
              "      <td>3449.0</td>\n",
              "      <td>10.5</td>\n",
              "      <td>70</td>\n",
              "      <td>1</td>\n",
              "      <td>ford torino</td>\n",
              "    </tr>\n",
              "    <tr>\n",
              "      <th>5</th>\n",
              "      <td>15.0</td>\n",
              "      <td>8</td>\n",
              "      <td>429.0</td>\n",
              "      <td>198.0</td>\n",
              "      <td>4341.0</td>\n",
              "      <td>10.0</td>\n",
              "      <td>70</td>\n",
              "      <td>1</td>\n",
              "      <td>ford galaxie 500</td>\n",
              "    </tr>\n",
              "  </tbody>\n",
              "</table>\n",
              "</div>\n",
              "      <button class=\"colab-df-convert\" onclick=\"convertToInteractive('df-beaff994-5334-4b7e-8281-7cb5b06f4fa5')\"\n",
              "              title=\"Convert this dataframe to an interactive table.\"\n",
              "              style=\"display:none;\">\n",
              "        \n",
              "  <svg xmlns=\"http://www.w3.org/2000/svg\" height=\"24px\"viewBox=\"0 0 24 24\"\n",
              "       width=\"24px\">\n",
              "    <path d=\"M0 0h24v24H0V0z\" fill=\"none\"/>\n",
              "    <path d=\"M18.56 5.44l.94 2.06.94-2.06 2.06-.94-2.06-.94-.94-2.06-.94 2.06-2.06.94zm-11 1L8.5 8.5l.94-2.06 2.06-.94-2.06-.94L8.5 2.5l-.94 2.06-2.06.94zm10 10l.94 2.06.94-2.06 2.06-.94-2.06-.94-.94-2.06-.94 2.06-2.06.94z\"/><path d=\"M17.41 7.96l-1.37-1.37c-.4-.4-.92-.59-1.43-.59-.52 0-1.04.2-1.43.59L10.3 9.45l-7.72 7.72c-.78.78-.78 2.05 0 2.83L4 21.41c.39.39.9.59 1.41.59.51 0 1.02-.2 1.41-.59l7.78-7.78 2.81-2.81c.8-.78.8-2.07 0-2.86zM5.41 20L4 18.59l7.72-7.72 1.47 1.35L5.41 20z\"/>\n",
              "  </svg>\n",
              "      </button>\n",
              "      \n",
              "  <style>\n",
              "    .colab-df-container {\n",
              "      display:flex;\n",
              "      flex-wrap:wrap;\n",
              "      gap: 12px;\n",
              "    }\n",
              "\n",
              "    .colab-df-convert {\n",
              "      background-color: #E8F0FE;\n",
              "      border: none;\n",
              "      border-radius: 50%;\n",
              "      cursor: pointer;\n",
              "      display: none;\n",
              "      fill: #1967D2;\n",
              "      height: 32px;\n",
              "      padding: 0 0 0 0;\n",
              "      width: 32px;\n",
              "    }\n",
              "\n",
              "    .colab-df-convert:hover {\n",
              "      background-color: #E2EBFA;\n",
              "      box-shadow: 0px 1px 2px rgba(60, 64, 67, 0.3), 0px 1px 3px 1px rgba(60, 64, 67, 0.15);\n",
              "      fill: #174EA6;\n",
              "    }\n",
              "\n",
              "    [theme=dark] .colab-df-convert {\n",
              "      background-color: #3B4455;\n",
              "      fill: #D2E3FC;\n",
              "    }\n",
              "\n",
              "    [theme=dark] .colab-df-convert:hover {\n",
              "      background-color: #434B5C;\n",
              "      box-shadow: 0px 1px 3px 1px rgba(0, 0, 0, 0.15);\n",
              "      filter: drop-shadow(0px 1px 2px rgba(0, 0, 0, 0.3));\n",
              "      fill: #FFFFFF;\n",
              "    }\n",
              "  </style>\n",
              "\n",
              "      <script>\n",
              "        const buttonEl =\n",
              "          document.querySelector('#df-beaff994-5334-4b7e-8281-7cb5b06f4fa5 button.colab-df-convert');\n",
              "        buttonEl.style.display =\n",
              "          google.colab.kernel.accessAllowed ? 'block' : 'none';\n",
              "\n",
              "        async function convertToInteractive(key) {\n",
              "          const element = document.querySelector('#df-beaff994-5334-4b7e-8281-7cb5b06f4fa5');\n",
              "          const dataTable =\n",
              "            await google.colab.kernel.invokeFunction('convertToInteractive',\n",
              "                                                     [key], {});\n",
              "          if (!dataTable) return;\n",
              "\n",
              "          const docLinkHtml = 'Like what you see? Visit the ' +\n",
              "            '<a target=\"_blank\" href=https://colab.research.google.com/notebooks/data_table.ipynb>data table notebook</a>'\n",
              "            + ' to learn more about interactive tables.';\n",
              "          element.innerHTML = '';\n",
              "          dataTable['output_type'] = 'display_data';\n",
              "          await google.colab.output.renderOutput(dataTable, element);\n",
              "          const docLink = document.createElement('div');\n",
              "          docLink.innerHTML = docLinkHtml;\n",
              "          element.appendChild(docLink);\n",
              "        }\n",
              "      </script>\n",
              "    </div>\n",
              "  </div>\n",
              "  "
            ]
          },
          "metadata": {},
          "execution_count": 7
        }
      ],
      "source": [
        "df.head(6)"
      ]
    },
    {
      "cell_type": "code",
      "execution_count": null,
      "metadata": {
        "id": "Y4mQ_SJ49hyP",
        "colab": {
          "base_uri": "https://localhost:8080/"
        },
        "outputId": "9525fdcd-1b2c-462d-8a55-a9a8941f7568"
      },
      "outputs": [
        {
          "output_type": "execute_result",
          "data": {
            "text/plain": [
              "Index(['mpg', 'cylinders', 'displacement', 'horsepower', 'weight',\n",
              "       'acceleration', 'model year', 'origin', 'car name'],\n",
              "      dtype='object')"
            ]
          },
          "metadata": {},
          "execution_count": 8
        }
      ],
      "source": [
        "df.columns"
      ]
    },
    {
      "cell_type": "markdown",
      "metadata": {
        "id": "lJDCYnEG9hyP"
      },
      "source": [
        "The field `df.index` returns the indices of the rows.  In this case, they are just enumerated 0,1,..."
      ]
    },
    {
      "cell_type": "code",
      "execution_count": null,
      "metadata": {
        "id": "dVFpz5L19hyP",
        "colab": {
          "base_uri": "https://localhost:8080/"
        },
        "outputId": "43ae3ee7-b9fd-4e57-f272-ef59d8eb7485"
      },
      "outputs": [
        {
          "output_type": "execute_result",
          "data": {
            "text/plain": [
              "RangeIndex(start=0, stop=398, step=1)"
            ]
          },
          "metadata": {},
          "execution_count": 9
        }
      ],
      "source": [
        "df.index"
      ]
    },
    {
      "cell_type": "markdown",
      "metadata": {
        "id": "0m1ZXg269hyP"
      },
      "source": [
        "Finally, `df.values` is a 2D `numpy` array with values of the attributes for each car.  Note that the data can be *heterogeneous*:  Some entries are integers, some are floating point values and some are strings."
      ]
    },
    {
      "cell_type": "code",
      "execution_count": null,
      "metadata": {
        "id": "oD88SaNO9hyP",
        "colab": {
          "base_uri": "https://localhost:8080/"
        },
        "outputId": "7e06ad1a-e12e-4e71-fa43-43392ae91627"
      },
      "outputs": [
        {
          "output_type": "execute_result",
          "data": {
            "text/plain": [
              "array([[18.0, 8, 307.0, ..., 70, 1, 'chevrolet chevelle malibu'],\n",
              "       [15.0, 8, 350.0, ..., 70, 1, 'buick skylark 320'],\n",
              "       [18.0, 8, 318.0, ..., 70, 1, 'plymouth satellite'],\n",
              "       ...,\n",
              "       [32.0, 4, 135.0, ..., 82, 1, 'dodge rampage'],\n",
              "       [28.0, 4, 120.0, ..., 82, 1, 'ford ranger'],\n",
              "       [31.0, 4, 119.0, ..., 82, 1, 'chevy s-10']], dtype=object)"
            ]
          },
          "metadata": {},
          "execution_count": 10
        }
      ],
      "source": [
        "df.values"
      ]
    },
    {
      "cell_type": "markdown",
      "metadata": {
        "id": "LRotlqhw9hyQ"
      },
      "source": [
        "The `df.columns` attribute is not a python list, but a `pandas`-specific data structure called an `Index`.  To convert to a list, use the `tolist()` method:"
      ]
    },
    {
      "cell_type": "code",
      "execution_count": null,
      "metadata": {
        "id": "ThHyxreh9hyQ",
        "colab": {
          "base_uri": "https://localhost:8080/"
        },
        "outputId": "fdcb76db-ea97-4614-ce9c-ca7e95ba9f3a"
      },
      "outputs": [
        {
          "output_type": "execute_result",
          "data": {
            "text/plain": [
              "['mpg',\n",
              " 'cylinders',\n",
              " 'displacement',\n",
              " 'horsepower',\n",
              " 'weight',\n",
              " 'acceleration',\n",
              " 'model year',\n",
              " 'origin',\n",
              " 'car name']"
            ]
          },
          "metadata": {},
          "execution_count": 11
        }
      ],
      "source": [
        "df.columns.tolist()"
      ]
    },
    {
      "cell_type": "markdown",
      "metadata": {
        "id": "m-xAsVgo9hyQ"
      },
      "source": [
        "You can select subsets of the attributes with indexing.  For example, this selects one attribute, which returns what is called a pandas `Series`"
      ]
    },
    {
      "cell_type": "code",
      "execution_count": null,
      "metadata": {
        "id": "0RJcyQWg9hyQ",
        "colab": {
          "base_uri": "https://localhost:8080/"
        },
        "outputId": "02a2bc3f-09cb-483f-a790-30215c1b6ab4"
      },
      "outputs": [
        {
          "output_type": "execute_result",
          "data": {
            "text/plain": [
              "0    8\n",
              "1    8\n",
              "2    8\n",
              "3    8\n",
              "4    8\n",
              "5    8\n",
              "Name: cylinders, dtype: int64"
            ]
          },
          "metadata": {},
          "execution_count": 12
        }
      ],
      "source": [
        "df2 = df['cylinders']\n",
        "df2.head(6)"
      ]
    },
    {
      "cell_type": "markdown",
      "metadata": {
        "id": "I2v-NZ-19hyQ"
      },
      "source": [
        "You can also select a list of column names which returns another dataframe.  Note the use of the double brackets `[[ ... ]]`."
      ]
    },
    {
      "cell_type": "code",
      "execution_count": null,
      "metadata": {
        "id": "ble3Mnzy9hyQ",
        "colab": {
          "base_uri": "https://localhost:8080/",
          "height": 238
        },
        "outputId": "eaede857-637d-4f27-a87b-3e1e3ac78422"
      },
      "outputs": [
        {
          "output_type": "execute_result",
          "data": {
            "text/plain": [
              "   cylinders  horsepower\n",
              "0          8       130.0\n",
              "1          8       165.0\n",
              "2          8       150.0\n",
              "3          8       150.0\n",
              "4          8       140.0\n",
              "5          8       198.0"
            ],
            "text/html": [
              "\n",
              "  <div id=\"df-c9a9a366-e74c-4f88-a8e5-48b83737426b\">\n",
              "    <div class=\"colab-df-container\">\n",
              "      <div>\n",
              "<style scoped>\n",
              "    .dataframe tbody tr th:only-of-type {\n",
              "        vertical-align: middle;\n",
              "    }\n",
              "\n",
              "    .dataframe tbody tr th {\n",
              "        vertical-align: top;\n",
              "    }\n",
              "\n",
              "    .dataframe thead th {\n",
              "        text-align: right;\n",
              "    }\n",
              "</style>\n",
              "<table border=\"1\" class=\"dataframe\">\n",
              "  <thead>\n",
              "    <tr style=\"text-align: right;\">\n",
              "      <th></th>\n",
              "      <th>cylinders</th>\n",
              "      <th>horsepower</th>\n",
              "    </tr>\n",
              "  </thead>\n",
              "  <tbody>\n",
              "    <tr>\n",
              "      <th>0</th>\n",
              "      <td>8</td>\n",
              "      <td>130.0</td>\n",
              "    </tr>\n",
              "    <tr>\n",
              "      <th>1</th>\n",
              "      <td>8</td>\n",
              "      <td>165.0</td>\n",
              "    </tr>\n",
              "    <tr>\n",
              "      <th>2</th>\n",
              "      <td>8</td>\n",
              "      <td>150.0</td>\n",
              "    </tr>\n",
              "    <tr>\n",
              "      <th>3</th>\n",
              "      <td>8</td>\n",
              "      <td>150.0</td>\n",
              "    </tr>\n",
              "    <tr>\n",
              "      <th>4</th>\n",
              "      <td>8</td>\n",
              "      <td>140.0</td>\n",
              "    </tr>\n",
              "    <tr>\n",
              "      <th>5</th>\n",
              "      <td>8</td>\n",
              "      <td>198.0</td>\n",
              "    </tr>\n",
              "  </tbody>\n",
              "</table>\n",
              "</div>\n",
              "      <button class=\"colab-df-convert\" onclick=\"convertToInteractive('df-c9a9a366-e74c-4f88-a8e5-48b83737426b')\"\n",
              "              title=\"Convert this dataframe to an interactive table.\"\n",
              "              style=\"display:none;\">\n",
              "        \n",
              "  <svg xmlns=\"http://www.w3.org/2000/svg\" height=\"24px\"viewBox=\"0 0 24 24\"\n",
              "       width=\"24px\">\n",
              "    <path d=\"M0 0h24v24H0V0z\" fill=\"none\"/>\n",
              "    <path d=\"M18.56 5.44l.94 2.06.94-2.06 2.06-.94-2.06-.94-.94-2.06-.94 2.06-2.06.94zm-11 1L8.5 8.5l.94-2.06 2.06-.94-2.06-.94L8.5 2.5l-.94 2.06-2.06.94zm10 10l.94 2.06.94-2.06 2.06-.94-2.06-.94-.94-2.06-.94 2.06-2.06.94z\"/><path d=\"M17.41 7.96l-1.37-1.37c-.4-.4-.92-.59-1.43-.59-.52 0-1.04.2-1.43.59L10.3 9.45l-7.72 7.72c-.78.78-.78 2.05 0 2.83L4 21.41c.39.39.9.59 1.41.59.51 0 1.02-.2 1.41-.59l7.78-7.78 2.81-2.81c.8-.78.8-2.07 0-2.86zM5.41 20L4 18.59l7.72-7.72 1.47 1.35L5.41 20z\"/>\n",
              "  </svg>\n",
              "      </button>\n",
              "      \n",
              "  <style>\n",
              "    .colab-df-container {\n",
              "      display:flex;\n",
              "      flex-wrap:wrap;\n",
              "      gap: 12px;\n",
              "    }\n",
              "\n",
              "    .colab-df-convert {\n",
              "      background-color: #E8F0FE;\n",
              "      border: none;\n",
              "      border-radius: 50%;\n",
              "      cursor: pointer;\n",
              "      display: none;\n",
              "      fill: #1967D2;\n",
              "      height: 32px;\n",
              "      padding: 0 0 0 0;\n",
              "      width: 32px;\n",
              "    }\n",
              "\n",
              "    .colab-df-convert:hover {\n",
              "      background-color: #E2EBFA;\n",
              "      box-shadow: 0px 1px 2px rgba(60, 64, 67, 0.3), 0px 1px 3px 1px rgba(60, 64, 67, 0.15);\n",
              "      fill: #174EA6;\n",
              "    }\n",
              "\n",
              "    [theme=dark] .colab-df-convert {\n",
              "      background-color: #3B4455;\n",
              "      fill: #D2E3FC;\n",
              "    }\n",
              "\n",
              "    [theme=dark] .colab-df-convert:hover {\n",
              "      background-color: #434B5C;\n",
              "      box-shadow: 0px 1px 3px 1px rgba(0, 0, 0, 0.15);\n",
              "      filter: drop-shadow(0px 1px 2px rgba(0, 0, 0, 0.3));\n",
              "      fill: #FFFFFF;\n",
              "    }\n",
              "  </style>\n",
              "\n",
              "      <script>\n",
              "        const buttonEl =\n",
              "          document.querySelector('#df-c9a9a366-e74c-4f88-a8e5-48b83737426b button.colab-df-convert');\n",
              "        buttonEl.style.display =\n",
              "          google.colab.kernel.accessAllowed ? 'block' : 'none';\n",
              "\n",
              "        async function convertToInteractive(key) {\n",
              "          const element = document.querySelector('#df-c9a9a366-e74c-4f88-a8e5-48b83737426b');\n",
              "          const dataTable =\n",
              "            await google.colab.kernel.invokeFunction('convertToInteractive',\n",
              "                                                     [key], {});\n",
              "          if (!dataTable) return;\n",
              "\n",
              "          const docLinkHtml = 'Like what you see? Visit the ' +\n",
              "            '<a target=\"_blank\" href=https://colab.research.google.com/notebooks/data_table.ipynb>data table notebook</a>'\n",
              "            + ' to learn more about interactive tables.';\n",
              "          element.innerHTML = '';\n",
              "          dataTable['output_type'] = 'display_data';\n",
              "          await google.colab.output.renderOutput(dataTable, element);\n",
              "          const docLink = document.createElement('div');\n",
              "          docLink.innerHTML = docLinkHtml;\n",
              "          element.appendChild(docLink);\n",
              "        }\n",
              "      </script>\n",
              "    </div>\n",
              "  </div>\n",
              "  "
            ]
          },
          "metadata": {},
          "execution_count": 13
        }
      ],
      "source": [
        "df2 = df[['cylinders','horsepower']]\n",
        "df2.head(6)"
      ]
    },
    {
      "cell_type": "markdown",
      "metadata": {
        "id": "uZ5UXwE_9hyR"
      },
      "source": [
        "## Plotting the Data\n",
        "We load the `matplotlib` module to plot the data. "
      ]
    },
    {
      "cell_type": "code",
      "execution_count": null,
      "metadata": {
        "id": "u_hZD7qo9hyR"
      },
      "outputs": [],
      "source": [
        "import matplotlib\n",
        "import matplotlib.pyplot as plt\n",
        "%matplotlib inline"
      ]
    },
    {
      "cell_type": "markdown",
      "metadata": {
        "id": "XJBNJaDL9hyR"
      },
      "source": [
        "First, we need to convert the dataframes to **numpy arrays**:"
      ]
    },
    {
      "cell_type": "code",
      "execution_count": null,
      "metadata": {
        "id": "aQb5amhQ9hyR"
      },
      "outputs": [],
      "source": [
        "x = df['weight'].values\n",
        "y = df['mpg'].values"
      ]
    },
    {
      "cell_type": "markdown",
      "metadata": {
        "id": "FiIKp1uj9hyR"
      },
      "source": [
        "Then, we can create a scatter plot"
      ]
    },
    {
      "cell_type": "code",
      "execution_count": null,
      "metadata": {
        "id": "bOQblOOd9hyS",
        "colab": {
          "base_uri": "https://localhost:8080/",
          "height": 279
        },
        "outputId": "7023461b-00c3-4ae3-f70d-2fa0b3c7ee55"
      },
      "outputs": [
        {
          "output_type": "display_data",
          "data": {
            "text/plain": [
              "<Figure size 432x288 with 1 Axes>"
            ],
            "image/png": "[encoded data removed]"
          },
          "metadata": {
            "needs_background": "light"
          }
        }
      ],
      "source": [
        "plt.plot(x,y,'o')\n",
        "plt.xlabel('weight')\n",
        "plt.ylabel('mpg')\n",
        "plt.grid(True)"
      ]
    },
    {
      "cell_type": "markdown",
      "metadata": {
        "id": "kMBXEbyq9hyS"
      },
      "source": [
        "## Manipulating Numpy arrays\n",
        "\n",
        "Once the data is converted to a numpy array, we can perform many useful simple calculations.  For example, we can compute the sample mean:"
      ]
    },
    {
      "cell_type": "code",
      "execution_count": null,
      "metadata": {
        "id": "0Nz5jJJG9hyS",
        "colab": {
          "base_uri": "https://localhost:8080/"
        },
        "outputId": "372db4ea-81f5-455c-f95d-381c40b4f657"
      },
      "outputs": [
        {
          "output_type": "stream",
          "name": "stdout",
          "text": [
            "Mean weight = 2970.4, mean mpg=  23.5\n"
          ]
        }
      ],
      "source": [
        "mx = np.mean(x)\n",
        "my = np.mean(y)\n",
        "print('Mean weight = {0:5.1f}, mean mpg= {1:5.1f}'.format(mx, my))"
      ]
    },
    {
      "cell_type": "markdown",
      "metadata": {
        "id": "Cln-_a-V9hyS"
      },
      "source": [
        "Fraction of cars with > 25 mpg:"
      ]
    },
    {
      "cell_type": "code",
      "execution_count": null,
      "metadata": {
        "id": "nRfZ-idh9hyS",
        "colab": {
          "base_uri": "https://localhost:8080/"
        },
        "outputId": "123768fa-3280-4aa1-ea72-7fc4e426c1a6"
      },
      "outputs": [
        {
          "output_type": "execute_result",
          "data": {
            "text/plain": [
              "0.3969849246231156"
            ]
          },
          "metadata": {},
          "execution_count": 18
        }
      ],
      "source": [
        "np.mean(y > 25)"
      ]
    },
    {
      "cell_type": "markdown",
      "metadata": {
        "id": "wQLmwE9Q9hyS"
      },
      "source": [
        "\n",
        "\n",
        "```\n",
        "# This is formatted as code\n",
        "```\n",
        "\n",
        "Sample mean displacement for the cars that have mpg > 25"
      ]
    },
    {
      "cell_type": "code",
      "execution_count": null,
      "metadata": {
        "id": "OT2tYybW9hyS",
        "colab": {
          "base_uri": "https://localhost:8080/"
        },
        "outputId": "ea163f56-6dc4-4841-d053-1f6d78391622"
      },
      "outputs": [
        {
          "output_type": "execute_result",
          "data": {
            "text/plain": [
              "array([False, False, False, False, False, False, False, False, False,\n",
              "       False, False, False, False, False, False, False, False, False,\n",
              "        True,  True, False, False, False,  True, False, False, False,\n",
              "       False, False,  True,  True, False, False, False, False, False,\n",
              "       False, False, False, False, False, False, False, False, False,\n",
              "       False, False, False, False, False,  True,  True,  True,  True,\n",
              "        True,  True,  True, False, False, False, False, False, False,\n",
              "       False, False, False, False, False, False, False, False, False,\n",
              "       False, False, False, False, False, False, False,  True, False,\n",
              "        True, False,  True,  True, False, False, False, False, False,\n",
              "       False, False, False, False, False, False, False, False, False,\n",
              "       False, False, False,  True, False, False, False, False, False,\n",
              "       False, False, False, False, False, False,  True, False, False,\n",
              "        True, False, False, False, False, False, False, False, False,\n",
              "       False, False, False,  True,  True,  True, False, False, False,\n",
              "       False, False, False, False, False, False,  True,  True,  True,\n",
              "        True,  True,  True, False,  True, False,  True,  True, False,\n",
              "       False, False, False, False, False, False, False, False, False,\n",
              "       False, False, False, False, False,  True, False, False, False,\n",
              "       False, False, False, False,  True, False, False, False, False,\n",
              "       False,  True,  True, False, False,  True,  True, False, False,\n",
              "       False, False, False, False, False, False,  True, False,  True,\n",
              "        True, False, False, False, False,  True,  True,  True,  True,\n",
              "       False, False, False, False, False, False, False, False, False,\n",
              "        True,  True,  True,  True,  True, False, False, False, False,\n",
              "       False, False, False, False, False, False, False, False,  True,\n",
              "       False,  True,  True,  True,  True,  True,  True, False, False,\n",
              "       False,  True,  True,  True,  True,  True, False, False, False,\n",
              "       False, False, False,  True, False, False, False, False, False,\n",
              "       False, False, False, False, False,  True,  True,  True,  True,\n",
              "       False, False, False, False, False, False, False, False,  True,\n",
              "        True, False, False, False, False, False, False, False, False,\n",
              "       False, False, False, False, False,  True,  True,  True,  True,\n",
              "        True, False,  True, False,  True,  True,  True,  True,  True,\n",
              "        True,  True,  True,  True,  True,  True,  True,  True,  True,\n",
              "       False, False,  True,  True,  True,  True,  True,  True,  True,\n",
              "        True,  True,  True,  True,  True,  True,  True,  True,  True,\n",
              "        True, False,  True, False,  True,  True,  True,  True, False,\n",
              "        True,  True,  True,  True,  True,  True,  True,  True,  True,\n",
              "        True,  True,  True,  True,  True,  True,  True,  True,  True,\n",
              "        True,  True, False, False,  True, False, False,  True,  True,\n",
              "        True,  True,  True,  True, False, False,  True,  True,  True,\n",
              "        True,  True,  True,  True,  True,  True,  True,  True, False,\n",
              "        True,  True, False,  True,  True,  True,  True,  True,  True,\n",
              "        True,  True])"
            ]
          },
          "metadata": {},
          "execution_count": 18
        }
      ],
      "source": [
        "I = (y>25)\n",
        "I"
      ]
    },
    {
      "cell_type": "code",
      "execution_count": null,
      "metadata": {
        "id": "Yx-MRuX69hyS",
        "colab": {
          "base_uri": "https://localhost:8080/"
        },
        "outputId": "241a41e4-acac-49a6-99da-21da045bf314"
      },
      "outputs": [
        {
          "output_type": "execute_result",
          "data": {
            "text/plain": [
              "2262.6772151898736"
            ]
          },
          "metadata": {},
          "execution_count": 19
        }
      ],
      "source": [
        "np.sum(x*I)/np.sum(I)"
      ]
    },
    {
      "cell_type": "markdown",
      "metadata": {
        "id": "O9SdyEWm9hyS"
      },
      "source": [
        "You can also do the previous command with [boolean indexing](https://docs.scipy.org/doc/numpy-1.13.0/user/basics.indexing.html)."
      ]
    },
    {
      "cell_type": "code",
      "execution_count": null,
      "metadata": {
        "id": "myFR6Y2J9hyT",
        "colab": {
          "base_uri": "https://localhost:8080/"
        },
        "outputId": "99f4fb94-6419-4070-adde-1d1d33ae95a5"
      },
      "outputs": [
        {
          "output_type": "execute_result",
          "data": {
            "text/plain": [
              "2262.6772151898736"
            ]
          },
          "metadata": {},
          "execution_count": 20
        }
      ],
      "source": [
        "np.mean(x[I])"
      ]
    },
    {
      "cell_type": "markdown",
      "metadata": {
        "id": "INfEJdAf9hyT"
      },
      "source": [
        "## Missing Data and NaN Values"
      ]
    },
    {
      "cell_type": "markdown",
      "metadata": {
        "id": "fwgjjROD9hyT"
      },
      "source": [
        "Now, try a different field, horsepower"
      ]
    },
    {
      "cell_type": "code",
      "execution_count": null,
      "metadata": {
        "id": "Znks297S9hyT",
        "colab": {
          "base_uri": "https://localhost:8080/"
        },
        "outputId": "a162cede-e061-4213-e878-f5a8490a8507"
      },
      "outputs": [
        {
          "output_type": "execute_result",
          "data": {
            "text/plain": [
              "nan"
            ]
          },
          "metadata": {},
          "execution_count": 19
        }
      ],
      "source": [
        "x = np.array(df['horsepower'])\n",
        "y = np.array(df['mpg'])\n",
        "np.mean(x)"
      ]
    },
    {
      "cell_type": "markdown",
      "metadata": {
        "id": "Gyn00CvC9hyT"
      },
      "source": [
        "When you get the mean, it gives `nan` which means not a number.  The reason is that there was missing data in the orginal file and the `load_csv` function put `nan` values in the places where the data was missing.  This is very common.  To remove the rows with the missing data, we can use the `dropna` method:"
      ]
    },
    {
      "cell_type": "code",
      "execution_count": null,
      "metadata": {
        "id": "Nm1Pdkzd9hyT",
        "colab": {
          "base_uri": "https://localhost:8080/"
        },
        "outputId": "62079ea4-2dc3-4d38-b578-57a963d6171a"
      },
      "outputs": [
        {
          "output_type": "stream",
          "name": "stdout",
          "text": [
            "(398, 2)\n",
            "(392, 2)\n"
          ]
        }
      ],
      "source": [
        "df1 = df[['mpg','horsepower']]\n",
        "df2 = df1.dropna()\n",
        "print(str(df1.shape))\n",
        "print(str(df2.shape))"
      ]
    },
    {
      "cell_type": "markdown",
      "metadata": {
        "collapsed": true,
        "id": "FQkNJV2w9hyT"
      },
      "source": [
        "We can see that some of the rows have been dropped.  Specifically, the number of samples went from 398 to 392.  We can now compute the mean using the reduced dataframe."
      ]
    },
    {
      "cell_type": "code",
      "source": [
        "df2 = df2.sort_values('horsepower')"
      ],
      "metadata": {
        "id": "c0CDwZXn6AXX"
      },
      "execution_count": null,
      "outputs": []
    },
    {
      "cell_type": "code",
      "execution_count": null,
      "metadata": {
        "id": "jrqyM3ms9hyU",
        "colab": {
          "base_uri": "https://localhost:8080/"
        },
        "outputId": "f1cd349b-9e67-407f-eec7-f950bb2aa33a"
      },
      "outputs": [
        {
          "output_type": "execute_result",
          "data": {
            "text/plain": [
              "104.46938775510205"
            ]
          },
          "metadata": {},
          "execution_count": 22
        }
      ],
      "source": [
        "x = df2['horsepower'].values\n",
        "y = df2['mpg'].values\n",
        "np.mean(x)"
      ]
    },
    {
      "cell_type": "markdown",
      "metadata": {
        "id": "ARGA7Ayz9hyU"
      },
      "source": [
        "And, we can plot the data."
      ]
    },
    {
      "cell_type": "code",
      "execution_count": null,
      "metadata": {
        "id": "HW7PtQTb9hyU",
        "colab": {
          "base_uri": "https://localhost:8080/",
          "height": 279
        },
        "outputId": "0e90c9ea-1884-49e5-f84d-c2f9260b819c"
      },
      "outputs": [
        {
          "output_type": "display_data",
          "data": {
            "text/plain": [
              "<Figure size 432x288 with 1 Axes>"
            ],
            "image/png": "[encoded data removed]"
          },
          "metadata": {
            "needs_background": "light"
          }
        }
      ],
      "source": [
        "plt.plot(x,y,'o')\n",
        "plt.xlabel('horsepower')\n",
        "plt.ylabel('mpg')\n",
        "plt.grid(True)"
      ]
    },
    {
      "cell_type": "markdown",
      "source": [
        "![Screen Shot 2022-09-22 at 8.50.08 PM.png](data:image/png;base64,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)"
      ],
      "metadata": {
        "id": "jVLUHGNV0sxp"
      }
    },
    {
      "cell_type": "code",
      "source": [
        "#first column - ones \n",
        "#second colum - x < lambda\n",
        "#third column - x >= lambda\n",
        "\n",
        "x_0 = np.ones(392)\n",
        "x_1 = []\n",
        "x_2 = []\n",
        "lamb = 100\n",
        "\n",
        "for i in x:\n",
        "  if i < lamb:\n",
        "    x_1.append(i)\n",
        "    x_2.append(0)\n",
        "  else:\n",
        "    x_1.append(lamb)\n",
        "    x_2.append(i-lamb)\n",
        "\n",
        "X = np.hstack((np.array([x_0]).T, np.array([x_1]).T, np.array([x_2]).T))"
      ],
      "metadata": {
        "id": "HVxAo5cX0B1z"
      },
      "execution_count": null,
      "outputs": []
    },
    {
      "cell_type": "code",
      "source": [
        "X"
      ],
      "metadata": {
        "colab": {
          "base_uri": "https://localhost:8080/"
        },
        "id": "8v4nC5vs1-1K",
        "outputId": "f812563f-ad18-497a-9004-8f3e24b400ec"
      },
      "execution_count": null,
      "outputs": [
        {
          "output_type": "execute_result",
          "data": {
            "text/plain": [
              "array([[  1.,  46.,   0.],\n",
              "       [  1.,  46.,   0.],\n",
              "       [  1.,  48.,   0.],\n",
              "       ...,\n",
              "       [  1., 100., 125.],\n",
              "       [  1., 100., 125.],\n",
              "       [  1., 100., 130.]])"
            ]
          },
          "metadata": {},
          "execution_count": 27
        }
      ]
    },
    {
      "cell_type": "code",
      "source": [
        "#Find optimal Beta - B* = (X.T*X)^{-1}{X.T*y}\n",
        "#https://www.codingem.com/numpy-at-operator/\n",
        "\n",
        "X_tran = np.transpose(X)\n",
        "B = np.linalg.inv(X_tran@X)@(X_tran@y)\n",
        "print(B)"
      ],
      "metadata": {
        "colab": {
          "base_uri": "https://localhost:8080/"
        },
        "id": "4NKKQPSP6Q4v",
        "outputId": "df26339f-0ed0-456f-8b05-0d64435843b6"
      },
      "execution_count": null,
      "outputs": [
        {
          "output_type": "stream",
          "name": "stdout",
          "text": [
            "[53.57724087 -0.32638817 -0.09142217]\n"
          ]
        }
      ]
    },
    {
      "cell_type": "markdown",
      "source": [
        "![Screen Shot 2022-09-23 at 12.13.47 PM.png](data:image/png;base64,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)"
      ],
      "metadata": {
        "id": "AwdhH6HCIDSL"
      }
    },
    {
      "cell_type": "code",
      "source": [
        "#find Y based on beta\n",
        "\n",
        "Y = []\n",
        "beta0, beta1, beta2 = B[0], B[1], B[2]\n",
        "for i in x:\n",
        "  if i<lamb:\n",
        "    Y.append(beta0 + beta1*i)\n",
        "  else:\n",
        "    Y.append(beta0 + (beta1*lamb) - (beta2*lamb) + (beta2*i))"
      ],
      "metadata": {
        "id": "kq_n3jLSBtHa"
      },
      "execution_count": null,
      "outputs": []
    },
    {
      "cell_type": "code",
      "source": [
        "#plot X and Y\n",
        "plt.plot(x,y,'o')\n",
        "plt.plot(x,Y,'-')\n",
        "plt.xlabel('horsepower')\n",
        "plt.ylabel('mpg')\n",
        "plt.grid(True)"
      ],
      "metadata": {
        "colab": {
          "base_uri": "https://localhost:8080/",
          "height": 279
        },
        "id": "rKMnhqj6IcNC",
        "outputId": "87708ad3-29d5-4535-f945-5a851a4a344c"
      },
      "execution_count": null,
      "outputs": [
        {
          "output_type": "display_data",
          "data": {
            "text/plain": [
              "<Figure size 432x288 with 1 Axes>"
            ],
            "image/png": "[encoded data removed]"
          },
          "metadata": {
            "needs_background": "light"
          }
        }
      ]
    },
    {
      "cell_type": "markdown",
      "metadata": {
        "id": "zX7vb6zw9hyU"
      },
      "source": [
        "## Computing and Plotting a Linear Fit\n",
        "We can now try to fit a linear model, $\\hat{y} = \\beta_0 + \\beta_1 x$.\n",
        "From class, the formulae are:\n",
        "$$\\beta_1 = s_{yx}/s_{xx}, \\quad \\beta_0 = \\bar{y} - \\beta_1\\bar{x},$$\n",
        "where $\\bar{x}$ and $\\bar{y}$ are the sample means and $s_{yx}$ and $s_{xx}$ are the covariance and variance."
      ]
    },
    {
      "cell_type": "code",
      "execution_count": null,
      "metadata": {
        "id": "V9BbTHDV9hyU",
        "colab": {
          "base_uri": "https://localhost:8080/"
        },
        "outputId": "39327027-b27a-40a0-b087-ca3e3e137439"
      },
      "outputs": [
        {
          "output_type": "stream",
          "name": "stdout",
          "text": [
            "mean of x = 104.47, mean of y =  23.45\n",
            "sqrt(sxx) = 38.44,  sqrt(syy)=  7.80\n",
            "beta0 = 39.94, beta1 = -0.16\n"
          ]
        }
      ],
      "source": [
        "xm = np.mean(x)\n",
        "ym = np.mean(y)\n",
        "syx = np.mean((y-ym)*(x-xm))\n",
        "sxx = np.mean((x-xm)**2)\n",
        "syy = np.mean((y-ym)**2)\n",
        "beta1 = syx/sxx\n",
        "beta0 = ym - beta1*xm\n",
        "\n",
        "print(\"mean of x ={0:7.2f}, mean of y ={1:7.2f}\".format(xm,ym))\n",
        "print(\"sqrt(sxx) ={0:6.2f},  sqrt(syy)={1:6.2f}\".format(np.sqrt(sxx),np.sqrt(syy)))\n",
        "print(\"beta0 ={0:6.2f}, beta1 ={1:6.2f}\".format(beta0,beta1))"
      ]
    },
    {
      "cell_type": "markdown",
      "metadata": {
        "id": "zuaBlS8R9hyU"
      },
      "source": [
        "We can create a plot of the regression line on top of the scatter plot."
      ]
    },
    {
      "cell_type": "code",
      "execution_count": null,
      "metadata": {
        "id": "QcIRMdrp9hyU",
        "colab": {
          "base_uri": "https://localhost:8080/",
          "height": 279
        },
        "outputId": "a4fb91da-5964-48bb-9871-1c024f64f97f"
      },
      "outputs": [
        {
          "output_type": "display_data",
          "data": {
            "text/plain": [
              "<Figure size 432x288 with 1 Axes>"
            ],
            "image/png": "[encoded data removed]"
          },
          "metadata": {
            "needs_background": "light"
          }
        }
      ],
      "source": [
        "# Points on the regression line\n",
        "ypred = beta1*x + beta0\n",
        "\n",
        "plt.plot(x,y,'o')                    # Plot the data points\n",
        "plt.plot(x,ypred,'-',linewidth=3)  # Plot the regression line (the predicted values)\n",
        "plt.xlabel('horsepower')\n",
        "plt.ylabel('mpg')\n",
        "plt.grid(True)"
      ]
    },
    {
      "cell_type": "markdown",
      "metadata": {
        "id": "IHlj232m9hyV"
      },
      "source": [
        "The Squared Loss is RSS = $\\sum_i (y_i-\\hat{y}_i)^2$ where $\\hat{y}_i = \\beta_0 + \\beta_1x_i$ or "
      ]
    },
    {
      "cell_type": "code",
      "execution_count": null,
      "metadata": {
        "id": "2UQj9EH09hyV",
        "colab": {
          "base_uri": "https://localhost:8080/"
        },
        "outputId": "92d95c30-1af5-4cee-e32c-90d981234b10"
      },
      "outputs": [
        {
          "output_type": "stream",
          "name": "stdout",
          "text": [
            "Loss = 9385.92\n"
          ]
        }
      ],
      "source": [
        "yhat=beta0+beta1*x\n",
        "loss = np.sum((y-yhat)**2)\n",
        "print(\"Loss = {0:7.2f}\".format(loss))"
      ]
    },
    {
      "cell_type": "code",
      "source": [
        "ones = np.ones(392)\n",
        "#x.shape"
      ],
      "metadata": {
        "id": "fnU9AA72fzNF",
        "outputId": "49ca5f0a-7e5f-4244-e006-d5edf7a5c99c",
        "colab": {
          "base_uri": "https://localhost:8080/"
        }
      },
      "execution_count": null,
      "outputs": [
        {
          "output_type": "execute_result",
          "data": {
            "text/plain": [
              "(392,)"
            ]
          },
          "metadata": {},
          "execution_count": 34
        }
      ]
    },
    {
      "cell_type": "code",
      "source": [
        "#piecewise linear regression\n",
        "\n",
        "xm = np.mean(x)\n",
        "ym = np.mean(y)\n",
        "syx = np.mean((y-ym)*(x-xm))\n",
        "sxx = np.mean((x-xm)**2)\n",
        "syy = np.mean((y-ym)**2)\n",
        "beta1 = syx/sxx\n",
        "beta0 = ym - beta1*xm\n",
        "\n",
        "def func (n, x): \n",
        "  lamb = 100\n",
        "  if x < lamb:\n",
        "    return x \n",
        "  elif n + 1 <= x <= n + 2:\n",
        "    return 2.0 - x + n \n",
        "  return 0.0 \n",
        "\n",
        "print(\"mean of x ={0:7.2f}, mean of y ={1:7.2f}\".format(xm,ym))\n",
        "print(\"sqrt(sxx) ={0:6.2f},  sqrt(syy)={1:6.2f}\".format(np.sqrt(sxx),np.sqrt(syy)))\n",
        "print(\"beta0 ={0:6.2f}, beta1 ={1:6.2f}\".format(beta0,beta1))"
      ],
      "metadata": {
        "id": "HDE26txJcuO_"
      },
      "execution_count": null,
      "outputs": []
    },
    {
      "cell_type": "code",
      "source": [
        "ypred = beta1*x + beta0\n",
        "\n",
        "plt.plot(x,y,'o')                    # Plot the data points\n",
        "plt.plot(x,ypred,'-',linewidth=3)  # Plot the regression line (the predicted values)\n",
        "plt.xlabel('horsepower')\n",
        "plt.ylabel('mpg')\n",
        "plt.grid(True)"
      ],
      "metadata": {
        "id": "-OeiawRgdDZ0"
      },
      "execution_count": null,
      "outputs": []
    },
    {
      "cell_type": "markdown",
      "metadata": {
        "collapsed": true,
        "id": "0mdiRma79hyV"
      },
      "source": [
        "## Nonlinear Transformation\n",
        "\n",
        "We see that the linear regression captures the general trend of the relation between `y=mpg` and `x=horsepower`.  However, the trend does not really appear linear - instead it has an inverse type relation.   So, a natural idea is to use a *nonlinear transformation*:\n",
        "* Transform the data `z=1/y` \n",
        "* Fit `z` vs. `x` with a linear model:  $\\hat{z}=\\beta_0 + \\beta_1x$.\n",
        "* Invert the nonlinear relation for a model for `y`:  $\\hat{y} = \\hat{z}=1/(\\beta_0 + \\beta_1x)$.\n",
        "\n",
        "We begin then by computing `z` and plotting a scatter plot of `z` vs. `x`.  Note that `z` represented gallons per mile (1/mpg)."
      ]
    },
    {
      "cell_type": "code",
      "execution_count": null,
      "metadata": {
        "id": "K5rwfudL9hyV",
        "colab": {
          "base_uri": "https://localhost:8080/",
          "height": 279
        },
        "outputId": "cd3f96cc-20d6-422d-cce3-61cb70e6f9aa"
      },
      "outputs": [
        {
          "output_type": "display_data",
          "data": {
            "text/plain": [
              "<Figure size 432x288 with 1 Axes>"
            ],
            "image/png": "[encoded data removed]"
          },
          "metadata": {
            "needs_background": "light"
          }
        }
      ],
      "source": [
        "z = 1/y\n",
        "plt.plot(x,z,'o')\n",
        "plt.xlabel('horsepower')\n",
        "plt.ylabel('1/mpg')\n",
        "plt.grid(True)"
      ]
    },
    {
      "cell_type": "markdown",
      "metadata": {
        "id": "gnCzL-8w9hyV"
      },
      "source": [
        "We see a clear linear relation between `z` (1/mpg) and `x` (horsepower). We can fit a linear model,\n",
        "$z = \\beta_0 + \\beta_1 x$.  "
      ]
    },
    {
      "cell_type": "code",
      "execution_count": null,
      "metadata": {
        "id": "62IyTKoZ9hyV"
      },
      "outputs": [],
      "source": [
        "# Use linear regression to fit `z` vs. `x`\n",
        "xm = np.mean(x)\n",
        "zm = np.mean(z)\n",
        "sxz = np.mean((z-zm)*(x-xm))\n",
        "sxx = np.mean((x-xm)**2)\n",
        "beta1_inv = sxz/sxx\n",
        "beta0_inv = zm - beta1_inv*xm"
      ]
    },
    {
      "cell_type": "markdown",
      "metadata": {
        "id": "Wx1MBoRT9hyV"
      },
      "source": [
        "We can create a plot of the regression line on top of the scatter plot.  "
      ]
    },
    {
      "cell_type": "code",
      "execution_count": null,
      "metadata": {
        "id": "UbayS2I79hyV",
        "colab": {
          "base_uri": "https://localhost:8080/",
          "height": 279
        },
        "outputId": "48e929b8-5986-421a-9e33-481247e0ad0b"
      },
      "outputs": [
        {
          "output_type": "display_data",
          "data": {
            "text/plain": [
              "<Figure size 432x288 with 1 Axes>"
            ],
            "image/png": "[encoded data removed]"
          },
          "metadata": {
            "needs_background": "light"
          }
        }
      ],
      "source": [
        "z = 1/y\n",
        "xplt_inv = np.arange(20,250)\n",
        "zplt_inv = beta1_inv*xplt_inv + beta0_inv\n",
        "plt.plot(x,z,'o')\n",
        "plt.plot(xplt_inv,zplt_inv,'-',linewidth=3)\n",
        "plt.xlabel('horsepower')\n",
        "plt.ylabel('1/mpg')\n",
        "plt.grid(True)"
      ]
    },
    {
      "cell_type": "markdown",
      "metadata": {
        "id": "gplPbi6p9hyW"
      },
      "source": [
        "Finally, we compute the estimate in the original domain:  $\\hat{y}=1/\\hat{z}$.  We plot the data, original linear fit and the linear fit with inversion."
      ]
    },
    {
      "cell_type": "code",
      "execution_count": null,
      "metadata": {
        "id": "6Zwovcyu9hyW",
        "colab": {
          "base_uri": "https://localhost:8080/",
          "height": 297
        },
        "outputId": "6ae71c77-96f1-47c1-bc73-3ffb29a50590"
      },
      "outputs": [
        {
          "output_type": "execute_result",
          "data": {
            "text/plain": [
              "<matplotlib.legend.Legend at 0x7fe130f85510>"
            ]
          },
          "metadata": {},
          "execution_count": 31
        },
        {
          "output_type": "display_data",
          "data": {
            "text/plain": [
              "<Figure size 432x288 with 1 Axes>"
            ],
            "image/png": "[encoded data removed]"
          },
          "metadata": {
            "needs_background": "light"
          }
        }
      ],
      "source": [
        "yplt_inv = 1/zplt_inv \n",
        "plt.plot(x,y,'o')\n",
        "plt.plot(xplt_inv,beta0 + beta1*xplt_inv,'-',linewidth=3)\n",
        "plt.plot(xplt_inv,yplt_inv,'-',linewidth=3)\n",
        "plt.xlabel('horsepower')\n",
        "plt.ylabel('mpg')\n",
        "plt.grid(True)\n",
        "plt.legend(['data', 'linear', 'linear+inversion'])"
      ]
    },
    {
      "cell_type": "markdown",
      "metadata": {
        "id": "DObRrEPs9hyW"
      },
      "source": [
        "We can conclude by comparing the squared loss using the linear fit and the linear fit+inversion.  We see that we get a slightly reduced error using the nonlinear transformation."
      ]
    },
    {
      "cell_type": "code",
      "execution_count": null,
      "metadata": {
        "id": "whcm9J609hyW",
        "colab": {
          "base_uri": "https://localhost:8080/"
        },
        "outputId": "2b1d0790-fab9-41a6-ac63-557f2671c349"
      },
      "outputs": [
        {
          "output_type": "stream",
          "name": "stdout",
          "text": [
            "RSS = 9385.92 (linear)\n",
            "RSS = 8100.67 (linear+inversion)\n"
          ]
        }
      ],
      "source": [
        "zhat_inv = beta0_inv + beta1_inv*x\n",
        "yhat_inv = 1/zhat_inv\n",
        "loss_inv = np.sum((yhat_inv-y)**2)\n",
        "print(\"RSS = {0:7.2f} (linear)\".format(loss))\n",
        "print(\"RSS = {0:7.2f} (linear+inversion)\".format(loss_inv))"
      ]
    },
    {
      "cell_type": "code",
      "execution_count": null,
      "metadata": {
        "id": "iIVTi19q9hyX"
      },
      "outputs": [],
      "source": []
    }
  ],
  "metadata": {
    "anaconda-cloud": {},
    "kernelspec": {
      "display_name": "Python 3",
      "language": "python",
      "name": "python3"
    },
    "language_info": {
      "codemirror_mode": {
        "name": "ipython",
        "version": 3
      },
      "file_extension": ".py",
      "mimetype": "text/x-python",
      "name": "python",
      "nbconvert_exporter": "python",
      "pygments_lexer": "ipython3",
      "version": "3.7.4"
    },
    "colab": {
      "provenance": [],
      "collapsed_sections": []
    }
  },
  "nbformat": 4,
  "nbformat_minor": 0
}